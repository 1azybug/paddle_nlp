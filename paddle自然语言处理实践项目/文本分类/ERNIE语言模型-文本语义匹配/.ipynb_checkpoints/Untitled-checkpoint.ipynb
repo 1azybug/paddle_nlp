{
 "cells": [
  {
   "cell_type": "code",
   "execution_count": null,
   "metadata": {
    "ExecuteTime": {
     "start_time": "2022-07-27T00:27:46.820Z"
    }
   },
   "outputs": [],
   "source": [
    "!if [ ! -d ./ERNIE/ ] ;then git clone --depth 1 --single-branch https://github.com/PaddlePaddle/ERNIE.git; fi"
   ]
  },
  {
   "cell_type": "code",
   "execution_count": 1,
   "metadata": {
    "ExecuteTime": {
     "end_time": "2022-07-27T00:20:44.170137Z",
     "start_time": "2022-07-27T00:20:44.121078Z"
    }
   },
   "outputs": [
    {
     "ename": "ModuleNotFoundError",
     "evalue": "No module named 'paddlehub'",
     "output_type": "error",
     "traceback": [
      "\u001b[1;31m---------------------------------------------------------------------------\u001b[0m",
      "\u001b[1;31mModuleNotFoundError\u001b[0m                       Traceback (most recent call last)",
      "\u001b[1;32m<ipython-input-1-3fbe1b2bb6d3>\u001b[0m in \u001b[0;36m<module>\u001b[1;34m()\u001b[0m\n\u001b[0;32m      1\u001b[0m \u001b[1;33m\u001b[0m\u001b[0m\n\u001b[0;32m      2\u001b[0m \u001b[1;31m#paddlehub 2.2.0中用datasets代替dataset。\u001b[0m\u001b[1;33m\u001b[0m\u001b[1;33m\u001b[0m\u001b[0m\n\u001b[1;32m----> 3\u001b[1;33m \u001b[1;32mfrom\u001b[0m \u001b[0mpaddlehub\u001b[0m\u001b[1;33m.\u001b[0m\u001b[0mdatasets\u001b[0m\u001b[1;33m.\u001b[0m\u001b[0mbase_nlp_dataset\u001b[0m \u001b[1;32mimport\u001b[0m \u001b[0mTextMatchingDataset\u001b[0m\u001b[1;33m\u001b[0m\u001b[0m\n\u001b[0m\u001b[0;32m      4\u001b[0m \u001b[1;32mclass\u001b[0m \u001b[0mCOVID19Competition\u001b[0m\u001b[1;33m(\u001b[0m\u001b[0mTextMatchingDataset\u001b[0m\u001b[1;33m)\u001b[0m\u001b[1;33m:\u001b[0m\u001b[1;33m\u001b[0m\u001b[0m\n\u001b[0;32m      5\u001b[0m     \u001b[1;32mdef\u001b[0m \u001b[0m__init__\u001b[0m\u001b[1;33m(\u001b[0m\u001b[0mself\u001b[0m\u001b[1;33m,\u001b[0m\u001b[0mtokenizer\u001b[0m\u001b[1;33m=\u001b[0m\u001b[1;32mNone\u001b[0m\u001b[1;33m,\u001b[0m\u001b[0mmax_seq_len\u001b[0m\u001b[1;33m=\u001b[0m\u001b[1;32mNone\u001b[0m\u001b[1;33m)\u001b[0m\u001b[1;33m:\u001b[0m\u001b[1;33m\u001b[0m\u001b[0m\n",
      "\u001b[1;31mModuleNotFoundError\u001b[0m: No module named 'paddlehub'"
     ]
    }
   ],
   "source": [
    "\n",
    "#paddlehub 2.2.0中用datasets代替dataset。\n",
    "from paddlehub.datasets.base_nlp_dataset import TextMatchingDataset\n",
    "class COVID19Competition(TextMatchingDataset):\n",
    "    def __init__(self,tokenizer=None,max_seq_len=None):\n",
    "        base_path='COVID19_sim_competition'\n",
    "        super(COVID19Competition,self).__init(\n",
    "            is_pair_wise=False,\n",
    "            base_path=base_path,\n",
    "            train_file='train.tsv',\n",
    "            dev_file='dev.tsv',\n",
    "            train_file_with_header=True,\n",
    "            dev_file_with_header=True,\n",
    "            label_list=['0','1'],\n",
    "            tokenizer=tokenizer,\n",
    "            max_seq_len=max_seq_len\n",
    "        )"
   ]
  },
  {
   "cell_type": "code",
   "execution_count": null,
   "metadata": {},
   "outputs": [],
   "source": []
  }
 ],
 "metadata": {
  "kernelspec": {
   "display_name": "Python 3",
   "language": "python",
   "name": "python3"
  },
  "language_info": {
   "codemirror_mode": {
    "name": "ipython",
    "version": 3
   },
   "file_extension": ".py",
   "mimetype": "text/x-python",
   "name": "python",
   "nbconvert_exporter": "python",
   "pygments_lexer": "ipython3",
   "version": "3.6.4"
  }
 },
 "nbformat": 4,
 "nbformat_minor": 2
}
