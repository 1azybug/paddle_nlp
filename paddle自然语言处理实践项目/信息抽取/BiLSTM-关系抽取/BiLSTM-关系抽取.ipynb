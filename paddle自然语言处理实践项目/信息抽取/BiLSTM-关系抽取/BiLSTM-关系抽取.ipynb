{
 "cells": [
  {
   "cell_type": "code",
   "execution_count": 23,
   "metadata": {
    "execution": {
     "iopub.execute_input": "2022-08-03T07:02:16.988274Z",
     "iopub.status.busy": "2022-08-03T07:02:16.986912Z",
     "iopub.status.idle": "2022-08-03T07:02:16.992746Z",
     "shell.execute_reply": "2022-08-03T07:02:16.991747Z",
     "shell.execute_reply.started": "2022-08-03T07:02:16.988226Z"
    },
    "scrolled": true,
    "tags": []
   },
   "outputs": [],
   "source": [
    "import json\r\n",
    "import paddle \r\n",
    "from paddlenlp.data import Stack,Tuple,Pad\r\n",
    "import paddle.nn as nn\r\n",
    "from matplotlib import pyplot as plt"
   ]
  },
  {
   "cell_type": "markdown",
   "metadata": {},
   "source": [
    "# 加载数据"
   ]
  },
  {
   "cell_type": "code",
   "execution_count": 2,
   "metadata": {
    "execution": {
     "iopub.execute_input": "2022-08-03T06:56:09.420795Z",
     "iopub.status.busy": "2022-08-03T06:56:09.419993Z",
     "iopub.status.idle": "2022-08-03T06:56:09.611493Z",
     "shell.execute_reply": "2022-08-03T06:56:09.610605Z",
     "shell.execute_reply.started": "2022-08-03T06:56:09.420760Z"
    },
    "scrolled": true,
    "tags": []
   },
   "outputs": [],
   "source": [
    "train_data=open('semeval_train.txt').readlines()\r\n",
    "val_data=open('semeval_val.txt').readlines()\r\n",
    "test_data=open('semeval_test.txt').readlines()\r\n",
    "train_data=[json.loads(line.strip()) for line in train_data]\r\n",
    "val_data=[json.loads(line.strip()) for line in val_data]\r\n",
    "test_data=[json.loads(line.strip()) for line in test_data]\r\n",
    "\r\n",
    "rel2id=json.loads(open(\"semeval_rel2id.json\").read())\r\n",
    "id2rel={v:k for k,v in rel2id.items()}\r\n",
    "num_classes=len(list(rel2id))"
   ]
  },
  {
   "cell_type": "code",
   "execution_count": 3,
   "metadata": {
    "execution": {
     "iopub.execute_input": "2022-08-03T06:56:09.613248Z",
     "iopub.status.busy": "2022-08-03T06:56:09.612722Z",
     "iopub.status.idle": "2022-08-03T06:56:09.626280Z",
     "shell.execute_reply": "2022-08-03T06:56:09.625623Z",
     "shell.execute_reply.started": "2022-08-03T06:56:09.613219Z"
    },
    "scrolled": true
   },
   "outputs": [
    {
     "name": "stdout",
     "output_type": "stream",
     "text": [
      "{'token': ['the', 'original', 'play', 'was', 'filled', 'with', 'very', 'topical', 'humor', ',', 'so', 'the', 'director', 'felt', 'free', 'to', 'add', 'current', 'topical', 'humor', 'to', 'the', 'script', '.'], 'h': {'name': 'play', 'pos': [2, 3]}, 't': {'name': 'humor', 'pos': [8, 9]}, 'relation': 'Component-Whole(e2,e1)'}\n",
      "train_data: 6507\n",
      "val_data: 1493\n",
      "test_data: 2717\n"
     ]
    }
   ],
   "source": [
    "print(train_data[0])\r\n",
    "print('train_data:',len(train_data))\r\n",
    "print('val_data:',len(val_data))\r\n",
    "print(\"test_data:\",len(test_data))"
   ]
  },
  {
   "cell_type": "markdown",
   "metadata": {},
   "source": [
    "# 构建字典"
   ]
  },
  {
   "cell_type": "code",
   "execution_count": 4,
   "metadata": {
    "execution": {
     "iopub.execute_input": "2022-08-03T06:56:09.627840Z",
     "iopub.status.busy": "2022-08-03T06:56:09.627302Z",
     "iopub.status.idle": "2022-08-03T06:56:09.661809Z",
     "shell.execute_reply": "2022-08-03T06:56:09.661157Z",
     "shell.execute_reply.started": "2022-08-03T06:56:09.627815Z"
    },
    "scrolled": true
   },
   "outputs": [],
   "source": [
    "vocab={}\r\n",
    "vocab['<pad>'],vocab[\"<unk>\"]=0,1\r\n",
    "idx=2\r\n",
    "for line in train_data + val_data:\r\n",
    "    for w in line['token']:\r\n",
    "        if w not in vocab:\r\n",
    "            vocab[w]=idx\r\n",
    "            idx+=1\r\n",
    "chars='abcdefghijklmnopqrstuvwxyz'\r\n",
    "for char in chars:\r\n",
    "    if char not in vocab:\r\n",
    "        vocab[char]=idx\r\n",
    "        idx+=1\r\n",
    "\r\n",
    "vocab_size=len(list(vocab))\r\n",
    "\r\n",
    "maxlen=30\r\n"
   ]
  },
  {
   "cell_type": "code",
   "execution_count": 5,
   "metadata": {
    "execution": {
     "iopub.execute_input": "2022-08-03T06:56:09.664197Z",
     "iopub.status.busy": "2022-08-03T06:56:09.663749Z",
     "iopub.status.idle": "2022-08-03T06:56:09.668794Z",
     "shell.execute_reply": "2022-08-03T06:56:09.668148Z",
     "shell.execute_reply.started": "2022-08-03T06:56:09.664168Z"
    },
    "scrolled": true
   },
   "outputs": [],
   "source": [
    "def txt_to_list(datas):\r\n",
    "    sents,e1,e2,y=[],[],[],[]\r\n",
    "    for line in datas:\r\n",
    "        sents.append(line['token'])\r\n",
    "        e1.append(line['h']['name'])\r\n",
    "        e2.append(line['t']['name'])\r\n",
    "        y.append(line['relation'])\r\n",
    "    \r\n",
    "    return sents,e1,e2,y\r\n"
   ]
  },
  {
   "cell_type": "code",
   "execution_count": 6,
   "metadata": {
    "execution": {
     "iopub.execute_input": "2022-08-03T06:56:09.670307Z",
     "iopub.status.busy": "2022-08-03T06:56:09.669731Z",
     "iopub.status.idle": "2022-08-03T06:56:09.676113Z",
     "shell.execute_reply": "2022-08-03T06:56:09.675394Z",
     "shell.execute_reply.started": "2022-08-03T06:56:09.670281Z"
    },
    "scrolled": true
   },
   "outputs": [],
   "source": [
    "dic={}\r\n",
    "def word2id(datas,maxlen=5):\r\n",
    "    res=[]\r\n",
    "    if maxlen<10:#只有e1,e2进这条路\r\n",
    "        maxlen=10\r\n",
    "        datas=[list(data) for data in datas]\r\n",
    "    \r\n",
    "    for data in datas:\r\n",
    "        if len(data) not in dic:\r\n",
    "            dic[len(data)]=1\r\n",
    "        else:\r\n",
    "            dic[len(data)]+=1#用于计算句子长度的占比\r\n",
    "\r\n",
    "        line=[vocab[c] if c in vocab else vocab['<unk>'] for c in data][:maxlen]\r\n",
    "        line=line+[vocab['<pad>']]*(maxlen-len(line))\r\n",
    "        res.append(line)\r\n",
    "\r\n",
    "    return res"
   ]
  },
  {
   "cell_type": "code",
   "execution_count": 7,
   "metadata": {
    "execution": {
     "iopub.execute_input": "2022-08-03T06:56:09.677858Z",
     "iopub.status.busy": "2022-08-03T06:56:09.677066Z",
     "iopub.status.idle": "2022-08-03T06:56:09.688752Z",
     "shell.execute_reply": "2022-08-03T06:56:09.688097Z",
     "shell.execute_reply.started": "2022-08-03T06:56:09.677831Z"
    },
    "scrolled": true,
    "tags": []
   },
   "outputs": [],
   "source": [
    "train_sents,train_e1,train_e2,train_y=txt_to_list(train_data)\r\n",
    "val_sents,val_e1,val_e2,val_y=txt_to_list(val_data)\r\n",
    "test_sents,test_e1,test_e2,test_y=txt_to_list(test_data)\r\n",
    "\r\n"
   ]
  },
  {
   "cell_type": "code",
   "execution_count": 8,
   "metadata": {
    "execution": {
     "iopub.execute_input": "2022-08-03T06:56:09.690236Z",
     "iopub.status.busy": "2022-08-03T06:56:09.689655Z",
     "iopub.status.idle": "2022-08-03T06:56:09.693116Z",
     "shell.execute_reply": "2022-08-03T06:56:09.692445Z",
     "shell.execute_reply.started": "2022-08-03T06:56:09.690211Z"
    },
    "scrolled": true,
    "tags": []
   },
   "outputs": [],
   "source": [
    "# train_sents=word2id(train_sents,maxlen)\r\n",
    "# # print(train_sents.shape)\r\n",
    "# print(type(train_sents))\r\n",
    "# print(train_sents)\r\n",
    "# train_sents=Stack()(train_sents)"
   ]
  },
  {
   "cell_type": "code",
   "execution_count": 9,
   "metadata": {
    "execution": {
     "iopub.execute_input": "2022-08-03T06:56:09.694363Z",
     "iopub.status.busy": "2022-08-03T06:56:09.693953Z",
     "iopub.status.idle": "2022-08-03T06:56:09.697664Z",
     "shell.execute_reply": "2022-08-03T06:56:09.697011Z",
     "shell.execute_reply.started": "2022-08-03T06:56:09.694339Z"
    },
    "scrolled": true,
    "tags": []
   },
   "outputs": [],
   "source": [
    "# print(train_sents.shape)\r\n",
    "# print(type(train_sents))\r\n",
    "# print(train_sents)"
   ]
  },
  {
   "cell_type": "code",
   "execution_count": 10,
   "metadata": {
    "execution": {
     "iopub.execute_input": "2022-08-03T06:56:09.698916Z",
     "iopub.status.busy": "2022-08-03T06:56:09.698562Z",
     "iopub.status.idle": "2022-08-03T06:56:10.028865Z",
     "shell.execute_reply": "2022-08-03T06:56:10.027860Z",
     "shell.execute_reply.started": "2022-08-03T06:56:09.698894Z"
    },
    "scrolled": true,
    "tags": []
   },
   "outputs": [],
   "source": [
    "train_idx=Stack()(word2id(train_sents,maxlen))\r\n",
    "train_e1_idx=Stack()(word2id(train_e1,2))\r\n",
    "train_e2_idx=Stack()(word2id(train_e2,2))\r\n",
    "train_yid=[rel2id[c] for c in train_y]\r\n",
    "\r\n",
    "val_idx=Stack()(word2id(val_sents,maxlen))\r\n",
    "val_e1_idx=Stack()(word2id(val_e1,2))\r\n",
    "val_e2_idx=Stack()(word2id(val_e2,2))\r\n",
    "val_yid=[rel2id[c] for c in val_y]\r\n",
    "\r\n",
    "test_idx=Stack()(word2id(test_sents,maxlen))\r\n",
    "test_e1_idx=Stack()(word2id(test_e1,2))\r\n",
    "test_e2_idx=Stack()(word2id(test_e2,2))\r\n",
    "test_yid=[rel2id[c] for c in test_y]"
   ]
  },
  {
   "cell_type": "markdown",
   "metadata": {},
   "source": [
    "# 构建数据集"
   ]
  },
  {
   "cell_type": "code",
   "execution_count": 11,
   "metadata": {
    "execution": {
     "iopub.execute_input": "2022-08-03T06:56:10.030339Z",
     "iopub.status.busy": "2022-08-03T06:56:10.030053Z",
     "iopub.status.idle": "2022-08-03T06:56:10.035795Z",
     "shell.execute_reply": "2022-08-03T06:56:10.035116Z",
     "shell.execute_reply.started": "2022-08-03T06:56:10.030314Z"
    },
    "scrolled": true,
    "tags": []
   },
   "outputs": [],
   "source": [
    "class MyDataset(paddle.io.Dataset):\r\n",
    "    def __init__(self,data):\r\n",
    "        super(MyDataset,self).__init__()\r\n",
    "        self.data=data\r\n",
    "    \r\n",
    "    def __getitem__(self,index):\r\n",
    "        data,e1,e2,label=self.data[index]\r\n",
    "        return data,e1,e2,label\r\n",
    "\r\n",
    "    def __len__(self):\r\n",
    "        return len(self.data)\r\n",
    "\r\n",
    "    def get_labels(self):\r\n",
    "        return [str(c) for c in range(19)]"
   ]
  },
  {
   "cell_type": "code",
   "execution_count": 12,
   "metadata": {
    "execution": {
     "iopub.execute_input": "2022-08-03T06:56:10.037357Z",
     "iopub.status.busy": "2022-08-03T06:56:10.036820Z",
     "iopub.status.idle": "2022-08-03T06:56:10.052359Z",
     "shell.execute_reply": "2022-08-03T06:56:10.051659Z",
     "shell.execute_reply.started": "2022-08-03T06:56:10.037330Z"
    },
    "scrolled": true,
    "tags": []
   },
   "outputs": [],
   "source": [
    "batch_size=64\r\n",
    "use_gpu=True\r\n",
    "train=MyDataset([[x,e1,e2,y] for x,e1,e2,y in zip(train_idx,train_e1_idx,train_e2_idx,train_yid)])\r\n",
    "val=MyDataset([[x,e1,e2,y] for x,e1,e2,y in zip(val_idx,val_e1_idx,val_e2_idx,val_yid)])\r\n",
    "test=MyDataset([[x,e1,e2,y] for x,e1,e2,y in zip(test_idx,test_e1_idx,test_e2_idx,test_yid)])\r\n",
    "\r\n",
    "train_loader=paddle.io.DataLoader(train,batch_size=batch_size,shuffle=True)\r\n",
    "val_loader=paddle.io.DataLoader(val,batch_size=batch_size,shuffle=False)\r\n",
    "test_loader=paddle.io.DataLoader(test,batch_size=batch_size,shuffle=False)"
   ]
  },
  {
   "cell_type": "markdown",
   "metadata": {},
   "source": [
    "# 搭建模型"
   ]
  },
  {
   "cell_type": "code",
   "execution_count": 13,
   "metadata": {
    "execution": {
     "iopub.execute_input": "2022-08-03T06:56:10.053827Z",
     "iopub.status.busy": "2022-08-03T06:56:10.053342Z",
     "iopub.status.idle": "2022-08-03T06:56:10.061965Z",
     "shell.execute_reply": "2022-08-03T06:56:10.061329Z",
     "shell.execute_reply.started": "2022-08-03T06:56:10.053801Z"
    },
    "scrolled": true,
    "tags": []
   },
   "outputs": [],
   "source": [
    "class Model(nn.Layer):\r\n",
    "    def __init__(self,vocab_size,embedding_size,hidden_size,dropout_rate,fc_hidden_size,num_layers=2):\r\n",
    "        super(Model,self).__init__()\r\n",
    "        self.hidden_size=hidden_size\r\n",
    "        self.emb=paddle.nn.Embedding(vocab_size,embedding_size)\r\n",
    "        self.lstm=nn.LSTM(embedding_size,hidden_size,num_layers=num_layers,direction='bidirectional')\r\n",
    "        self.lstm_e1=nn.LSTM(embedding_size,hidden_size,num_layers=1)\r\n",
    "        self.lstm_e2=nn.LSTM(embedding_size,hidden_size,num_layers=1)\r\n",
    "        self.fc=nn.Linear(hidden_size*4,fc_hidden_size)\r\n",
    "        self.output_layer=nn.Linear(fc_hidden_size,num_classes)\r\n",
    "    \r\n",
    "    def forward(self,text,e1,e2,y=None):\r\n",
    "        emb_text=self.emb(text)\r\n",
    "        emb_e1=self.emb(e1)\r\n",
    "        emb_e2=self.emb(e2)\r\n",
    "        r1,(_,_)=self.lstm(emb_text)\r\n",
    "        r2,(_,_)=self.lstm_e1(emb_e1)\r\n",
    "        r3,(_,_)=self.lstm_e2(emb_e2)\r\n",
    "        f=paddle.concat([r1[:,-1,:self.hidden_size],r1[:,0,self.hidden_size:],r2[:,-1,:],r3[:,-1,:]],axis=-1)\r\n",
    "        fc_out=paddle.tanh(self.fc(f))\r\n",
    "        logits=self.output_layer(fc_out)\r\n",
    "        return logits"
   ]
  },
  {
   "cell_type": "markdown",
   "metadata": {},
   "source": [
    "# 训练"
   ]
  },
  {
   "cell_type": "code",
   "execution_count": 14,
   "metadata": {
    "execution": {
     "iopub.execute_input": "2022-08-03T06:56:10.065462Z",
     "iopub.status.busy": "2022-08-03T06:56:10.064968Z",
     "iopub.status.idle": "2022-08-03T06:56:11.095439Z",
     "shell.execute_reply": "2022-08-03T06:56:11.094513Z",
     "shell.execute_reply.started": "2022-08-03T06:56:10.065436Z"
    },
    "scrolled": true,
    "tags": []
   },
   "outputs": [
    {
     "name": "stderr",
     "output_type": "stream",
     "text": [
      "W0803 14:56:10.067515  8951 gpu_resources.cc:61] Please NOTE: device: 0, GPU Compute Capability: 7.0, Driver API Version: 11.2, Runtime API Version: 10.1\n",
      "W0803 14:56:10.073068  8951 gpu_resources.cc:91] device: 0, cuDNN Version: 7.6.\n"
     ]
    }
   ],
   "source": [
    "epochs=10\r\n",
    "embedding_size=128\r\n",
    "hidden_size=256\r\n",
    "dropout_rate=0.1\r\n",
    "fc_hidden_size=128\r\n",
    "num_layers=3\r\n",
    "model=Model(vocab_size,embedding_size,hidden_size,dropout_rate,fc_hidden_size,num_layers)"
   ]
  },
  {
   "cell_type": "code",
   "execution_count": 18,
   "metadata": {
    "execution": {
     "iopub.execute_input": "2022-08-03T06:56:47.272647Z",
     "iopub.status.busy": "2022-08-03T06:56:47.271275Z",
     "iopub.status.idle": "2022-08-03T06:56:47.277719Z",
     "shell.execute_reply": "2022-08-03T06:56:47.276563Z",
     "shell.execute_reply.started": "2022-08-03T06:56:47.272595Z"
    },
    "scrolled": true,
    "tags": []
   },
   "outputs": [],
   "source": [
    "optimizer=paddle.optimizer.Adam(parameters=model.parameters(),learning_rate=5e-4)\r\n",
    "loss_func=paddle.nn.CrossEntropyLoss()"
   ]
  },
  {
   "cell_type": "code",
   "execution_count": 19,
   "metadata": {
    "execution": {
     "iopub.execute_input": "2022-08-03T06:56:47.601488Z",
     "iopub.status.busy": "2022-08-03T06:56:47.600742Z",
     "iopub.status.idle": "2022-08-03T06:57:06.546198Z",
     "shell.execute_reply": "2022-08-03T06:57:06.545220Z",
     "shell.execute_reply.started": "2022-08-03T06:56:47.601458Z"
    },
    "scrolled": true,
    "tags": []
   },
   "outputs": [
    {
     "name": "stdout",
     "output_type": "stream",
     "text": [
      "epo:0,step:30,loss is :[2.8214874],acc is: 0.140625\n",
      "epo:0,step:60,loss is :[2.799726],acc is: 0.140625\n",
      "epo:0,step:90,loss is :[2.5845602],acc is: 0.171875\n",
      "epo:1,step:120,loss is :[2.4073305],acc is: 0.234375\n",
      "epo:1,step:150,loss is :[2.030932],acc is: 0.390625\n",
      "epo:1,step:180,loss is :[2.2202737],acc is: 0.328125\n",
      "epo:2,step:210,loss is :[1.7644681],acc is: 0.359375\n",
      "epo:2,step:240,loss is :[1.5535717],acc is: 0.515625\n",
      "epo:2,step:270,loss is :[1.8133805],acc is: 0.515625\n",
      "epo:2,step:300,loss is :[1.8596356],acc is: 0.40625\n",
      "epo:3,step:330,loss is :[1.0855057],acc is: 0.671875\n",
      "epo:3,step:360,loss is :[1.2415042],acc is: 0.59375\n",
      "epo:3,step:390,loss is :[1.0857097],acc is: 0.6875\n",
      "epo:4,step:420,loss is :[0.90502274],acc is: 0.6875\n",
      "epo:4,step:450,loss is :[0.79819643],acc is: 0.765625\n",
      "epo:4,step:480,loss is :[0.94034004],acc is: 0.65625\n",
      "epo:4,step:510,loss is :[1.1909661],acc is: 0.5813953488372093\n",
      "epo:5,step:540,loss is :[0.51081467],acc is: 0.859375\n",
      "epo:5,step:570,loss is :[0.41100276],acc is: 0.84375\n",
      "epo:5,step:600,loss is :[0.54023886],acc is: 0.859375\n",
      "epo:6,step:630,loss is :[0.38890508],acc is: 0.84375\n",
      "epo:6,step:660,loss is :[0.347168],acc is: 0.875\n",
      "epo:6,step:690,loss is :[0.6248694],acc is: 0.8125\n",
      "epo:7,step:720,loss is :[0.22426197],acc is: 0.9375\n",
      "epo:7,step:750,loss is :[0.23513314],acc is: 0.921875\n",
      "epo:7,step:780,loss is :[0.16162063],acc is: 0.96875\n",
      "epo:7,step:810,loss is :[0.41449296],acc is: 0.890625\n",
      "epo:8,step:840,loss is :[0.22413234],acc is: 0.90625\n",
      "epo:8,step:870,loss is :[0.25528044],acc is: 0.90625\n",
      "epo:8,step:900,loss is :[0.22102362],acc is: 0.9375\n",
      "epo:9,step:930,loss is :[0.24969314],acc is: 0.921875\n",
      "epo:9,step:960,loss is :[0.22899233],acc is: 0.953125\n",
      "epo:9,step:990,loss is :[0.13642555],acc is: 0.96875\n",
      "epo:9,step:1020,loss is :[0.26946858],acc is: 0.9302325581395349\n"
     ]
    }
   ],
   "source": [
    "steps=0\r\n",
    "total_loss=[]\r\n",
    "total_acc=[]\r\n",
    "Iters=[]\r\n",
    "for i in range(epochs):\r\n",
    "    for data in train_loader:\r\n",
    "        x,e1,e2,y=data\r\n",
    "        steps+=1\r\n",
    "        logits=model(x,e1,e2)\r\n",
    "        pred=paddle.argmax(logits,axis=-1)\r\n",
    "        acc=sum(pred.numpy()==y.numpy())/len(y)\r\n",
    "        loss=loss_func(logits,y)\r\n",
    "        loss.backward()\r\n",
    "        optimizer.step()\r\n",
    "        optimizer.clear_grad()\r\n",
    "\r\n",
    "        if steps%30==0:\r\n",
    "            Iters.append(steps)\r\n",
    "            total_loss.append(loss.numpy()[0])\r\n",
    "            total_acc.append(acc)\r\n",
    "            print('epo:{},step:{},loss is :{},acc is: {}'.format(i,steps,loss.numpy(),acc))\r\n",
    "\r\n",
    "    paddle.save(model.state_dict(),'model_{}.pdparams'.format(i))"
   ]
  },
  {
   "cell_type": "markdown",
   "metadata": {},
   "source": [
    "# 绘图"
   ]
  },
  {
   "cell_type": "code",
   "execution_count": 24,
   "metadata": {
    "execution": {
     "iopub.execute_input": "2022-08-03T07:02:20.662530Z",
     "iopub.status.busy": "2022-08-03T07:02:20.661146Z",
     "iopub.status.idle": "2022-08-03T07:02:21.003276Z",
     "shell.execute_reply": "2022-08-03T07:02:21.002282Z",
     "shell.execute_reply.started": "2022-08-03T07:02:20.662486Z"
    },
    "scrolled": true,
    "tags": []
   },
   "outputs": [
    {
     "data": {
      "image/png": "[encoded data removed]",
      "text/plain": [
       "<Figure size 432x288 with 1 Axes>"
      ]
     },
     "metadata": {
      "needs_background": "light"
     },
     "output_type": "display_data"
    },
    {
     "data": {
      "image/png": "[encoded data removed]",
      "text/plain": [
       "<Figure size 432x288 with 1 Axes>"
      ]
     },
     "metadata": {
      "needs_background": "light"
     },
     "output_type": "display_data"
    }
   ],
   "source": [
    "def draw_process(title,color,iters,data,label):\r\n",
    "    plt.title(title,fontsize=24)\r\n",
    "    plt.xlabel('iter',fontsize=20)\r\n",
    "    plt.ylabel(label,fontsize=20)\r\n",
    "    plt.plot(iters,data,color,label=label)\r\n",
    "    plt.legend()\r\n",
    "    plt.grid()\r\n",
    "    plt.show()\r\n",
    "\r\n",
    "draw_process(\"training loss\",\"red\",Iters,total_loss,\"training loss\")\r\n",
    "draw_process(\"training acc\",\"green\",Iters,total_acc,\"training acc\")"
   ]
  },
  {
   "cell_type": "markdown",
   "metadata": {},
   "source": [
    "# 评估"
   ]
  },
  {
   "cell_type": "code",
   "execution_count": 26,
   "metadata": {
    "execution": {
     "iopub.execute_input": "2022-08-03T07:28:00.905322Z",
     "iopub.status.busy": "2022-08-03T07:28:00.904666Z",
     "iopub.status.idle": "2022-08-03T07:28:01.083517Z",
     "shell.execute_reply": "2022-08-03T07:28:01.082704Z",
     "shell.execute_reply.started": "2022-08-03T07:28:00.905279Z"
    },
    "scrolled": true,
    "tags": []
   },
   "outputs": [],
   "source": [
    "model.eval()\r\n",
    "preds=[] \r\n",
    "steps=0\r\n",
    "y=[]\r\n",
    "for data in val_loader:\r\n",
    "    x,e1,e2,y_=data\r\n",
    "    steps+=1\r\n",
    "    logits=model(x,e1,e2)\r\n",
    "    pred=paddle.argmax(logits,axis=-1)\r\n",
    "    y+=list(y_.numpy())\r\n",
    "    preds+=list(pred.numpy())\r\n",
    "\r\n",
    "cc=[1 if a==b else 0 for a,b in zip(preds,y)]\r\n",
    "acc = sum(cc)/len(y)"
   ]
  },
  {
   "cell_type": "markdown",
   "metadata": {
    "execution": {
     "iopub.execute_input": "2022-08-03T07:28:06.578104Z",
     "iopub.status.busy": "2022-08-03T07:28:06.577467Z",
     "iopub.status.idle": "2022-08-03T07:28:06.583300Z",
     "shell.execute_reply": "2022-08-03T07:28:06.582622Z",
     "shell.execute_reply.started": "2022-08-03T07:28:06.578060Z"
    }
   },
   "source": [
    "# 预测"
   ]
  },
  {
   "cell_type": "code",
   "execution_count": 31,
   "metadata": {
    "execution": {
     "iopub.execute_input": "2022-08-03T07:33:49.707719Z",
     "iopub.status.busy": "2022-08-03T07:33:49.705822Z",
     "iopub.status.idle": "2022-08-03T07:33:49.945943Z",
     "shell.execute_reply": "2022-08-03T07:33:49.945144Z",
     "shell.execute_reply.started": "2022-08-03T07:33:49.707657Z"
    },
    "scrolled": true,
    "tags": []
   },
   "outputs": [
    {
     "name": "stdout",
     "output_type": "stream",
     "text": [
      "------------------------------\n",
      "上下文: the most common audits were about waste and recycling .\n",
      "实体1: audits\n",
      "实体2: waste\n",
      "真实标签: Message-Topic(e1,e2)\n",
      "预测标签: Message-Topic(e1,e2)\n",
      "------------------------------\n",
      "上下文: this thesis defines the clinical characteristics of amyloid disease .\n",
      "实体1: thesis\n",
      "实体2: clinical characteristics\n",
      "真实标签: Message-Topic(e1,e2)\n",
      "预测标签: Other\n",
      "------------------------------\n",
      "上下文: this outline focuses on spirituality , esotericism , mysticism , religion and/or parapsychology .\n",
      "实体1: outline\n",
      "实体2: spirituality\n",
      "真实标签: Message-Topic(e1,e2)\n",
      "预测标签: Message-Topic(e1,e2)\n",
      "------------------------------\n",
      "上下文: many of his literary pieces narrate and mention stories that took place in lipa .\n",
      "实体1: pieces\n",
      "实体2: stories\n",
      "真实标签: Message-Topic(e1,e2)\n",
      "预测标签: Message-Topic(e1,e2)\n",
      "------------------------------\n",
      "上下文: news programs commented on the violence from the game and expressed worries on how it would affect the players ' personalities .\n",
      "实体1: news programs\n",
      "实体2: violence\n",
      "真实标签: Message-Topic(e1,e2)\n",
      "预测标签: Other\n",
      "------------------------------\n",
      "上下文: in the article , the authors explore the use of technology in small pharmacy chains .\n",
      "实体1: article\n",
      "实体2: use\n",
      "真实标签: Message-Topic(e1,e2)\n",
      "预测标签: Content-Container(e1,e2)\n",
      "------------------------------\n",
      "上下文: the magazine was founded in order to keep athletes serving as soldiers informed about their sport back home .\n",
      "实体1: magazine\n",
      "实体2: sport\n",
      "真实标签: Message-Topic(e1,e2)\n",
      "预测标签: Other\n",
      "------------------------------\n",
      "上下文: many films have portrayed mental illness or used it as a backdrop for other themes .\n",
      "实体1: films\n",
      "实体2: mental illness\n",
      "真实标签: Message-Topic(e1,e2)\n",
      "预测标签: Message-Topic(e1,e2)\n",
      "------------------------------\n",
      "上下文: this volume analyzes central concepts of the contemporary political debate .\n",
      "实体1: volume\n",
      "实体2: concepts\n",
      "真实标签: Message-Topic(e1,e2)\n",
      "预测标签: Message-Topic(e2,e1)\n"
     ]
    }
   ],
   "source": [
    "model.eval()\r\n",
    "x=paddle.to_tensor(test_idx)\r\n",
    "e1=paddle.to_tensor(test_e1_idx)\r\n",
    "e2=paddle.to_tensor(test_e2_idx)\r\n",
    "y=paddle.to_tensor(test_yid)\r\n",
    "\r\n",
    "logits=model(x,e1,e2)\r\n",
    "\r\n",
    "pred=paddle.argmax(logits,axis=-1)\r\n",
    "for i in range(9):\r\n",
    "    print('-'*30)\r\n",
    "    print('上下文:',\" \".join(test_sents[i]))\r\n",
    "    print('实体1:',test_e1[i])\r\n",
    "    print('实体2:',test_e2[i])\r\n",
    "    print(\"真实标签:\",test_y[i])\r\n",
    "    print(\"预测标签:\",id2rel[pred[i].numpy()[0]])"
   ]
  },
  {
   "cell_type": "code",
   "execution_count": null,
   "metadata": {
    "scrolled": true
   },
   "outputs": [],
   "source": []
  }
 ],
 "metadata": {
  "kernelspec": {
   "display_name": "Python 3",
   "language": "python",
   "name": "py35-paddle1.2.0"
  },
  "language_info": {
   "codemirror_mode": {
    "name": "ipython",
    "version": 3
   },
   "file_extension": ".py",
   "mimetype": "text/x-python",
   "name": "python",
   "nbconvert_exporter": "python",
   "pygments_lexer": "ipython3",
   "version": "3.7.4"
  }
 },
 "nbformat": 4,
 "nbformat_minor": 4
}
